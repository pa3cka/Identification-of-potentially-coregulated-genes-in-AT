{
  "nbformat": 4,
  "nbformat_minor": 0,
  "metadata": {
    "colab": {
      "provenance": [],
      "gpuType": "T4"
    },
    "kernelspec": {
      "name": "python3",
      "display_name": "Python 3"
    },
    "language_info": {
      "name": "python"
    },
    "accelerator": "GPU"
  },
  "cells": [
    {
      "cell_type": "markdown",
      "source": [
        "# **Importy**"
      ],
      "metadata": {
        "id": "sWhCnslgop8J"
      }
    },
    {
      "cell_type": "code",
      "source": [
        "import os\n",
        "\n",
        "import numpy as np\n",
        "import pandas as pd\n",
        "import matplotlib.pyplot as plt\n",
        "import seaborn as sns\n",
        "from google.colab import drive\n",
        "from sklearn.feature_selection import mutual_info_regression"
      ],
      "metadata": {
        "id": "9rAUwInqq5pK"
      },
      "execution_count": 1,
      "outputs": []
    },
    {
      "cell_type": "markdown",
      "source": [
        "# **Načítanie dát**\n",
        "Údaje by mali byť vo formáte CSV alebo XLSX s génmi (Geneid) ako riadkami a replikátmi BAM ako stĺpcami."
      ],
      "metadata": {
        "id": "pdt4ZtlCfPjX"
      }
    },
    {
      "cell_type": "code",
      "execution_count": null,
      "metadata": {
        "id": "WQ7eXUFBq5El"
      },
      "outputs": [],
      "source": [
        "# Pripojenie na Disk Google a načítanie dátového súboru\n",
        "\n",
        "# Mount Google Drive\n",
        "drive.mount(\"/content/drive\", force_remount=True)\n",
        "\n",
        "# Definovanie cesty k dátovému súboru\n",
        "root_dir = \"/content/drive/MyDrive/\"\n",
        "base_dir = os.path.join(root_dir, \"BP/DATA/\")\n",
        "data_file = 'MBF1.xlsx'  # Napríklad data.xlsx\n",
        "\n",
        "# Kontrola, či je súbor CSV alebo XLSX a načitanie do pandas DataFrame\n",
        "file_path = os.path.join(base_dir, data_file)\n",
        "if data_file.endswith('.csv'):\n",
        "    data_df = pd.read_csv(file_path, delimiter=\",\", index_col=0, header=0)\n",
        "elif data_file.endswith('.xlsx'):\n",
        "    data_df = pd.read_excel(file_path, index_col=0, header=0)\n",
        "else:\n",
        "    raise ValueError(\"Nepodporovaný formát súboru. Poskytnite súbor CSV alebo XLSX.\")\n",
        "\n",
        "# Zobrazenie DataFrame\n",
        "data_df"
      ]
    },
    {
      "cell_type": "markdown",
      "source": [
        "# **Detekcia potenciálne koregulovaných génov v celom datasete**"
      ],
      "metadata": {
        "id": "zBWD7kPNS3OP"
      }
    },
    {
      "cell_type": "markdown",
      "source": [
        "## Transponovanie dát pre výpočet korelačného koeficientu a vzájomnej informácie"
      ],
      "metadata": {
        "id": "7AtnWhTg5qmo"
      }
    },
    {
      "cell_type": "code",
      "source": [
        "gene_expression_data_T = data_df.T"
      ],
      "metadata": {
        "id": "Vuj-t2Wz5vE0"
      },
      "execution_count": 3,
      "outputs": []
    },
    {
      "cell_type": "markdown",
      "source": [
        "## **Pearsonov korelačný koeficient**"
      ],
      "metadata": {
        "id": "sVIivZH35B-h"
      }
    },
    {
      "cell_type": "code",
      "source": [
        "# Výpočet korelačnej matice pomocou Pearsonovej metódy\n",
        "corr_matrix = gene_expression_data_T.corr()\n",
        "\n",
        "# Nahradenie NaN hodnôt nulami\n",
        "corr_matrix = corr_matrix.fillna(0)\n",
        "\n",
        "# Nastavenie diagonály na 1 pomocou numpy.fill_diagonal\n",
        "np.fill_diagonal(corr_matrix.values, 1)\n",
        "\n",
        "# Uloženie korelačnej matice do súboru .csv\n",
        "corr_matrix.to_csv(os.path.join(base_dir, 'corr_matrix.csv'))\n",
        "\n",
        "# Vizualizácia korelačnej matice - heatmapa\n",
        "plt.figure(figsize=(10, 8))\n",
        "sns.heatmap(corr_matrix, cmap='viridis', annot=False)\n",
        "plt.title('Heatmapa korelačnej matice')\n",
        "plt.xlabel('Gény')\n",
        "plt.ylabel('Gény')\n",
        "plt.show()"
      ],
      "metadata": {
        "id": "H-VWRZb9a9UZ"
      },
      "execution_count": null,
      "outputs": []
    },
    {
      "cell_type": "markdown",
      "source": [
        "Nahradenie NaN hodnôt:\n",
        "\n",
        "Ak sú hodnoty expresie pre niektorý pár génov konštantné (napríklad, ak sú všetky hodnoty pre gény rovnaké) pri výpočte Pearsonovho korelačného koeficienta dôjde k deleniu nulou, čo vedie k hodnote NaN. To je preto, že štandardná odchýlka (v menovateli vzorca) je nulová pre konštantné hodnoty. Preto som sa po preštudovaní dokumentácie (https://pandas.pydata.org/docs/reference/api/pandas.DataFrame.corr.html) a zistení, že funkcia .corr() dáva NaN tam, kde nie je žiadna korelácia, rozhodla nahradiť túto nulovú závisloť matematicky a teda 0.\n",
        "Následne definujem diagonálu 1, pretože korelácia toho istého génu so sebou samým bude vždy maximálna."
      ],
      "metadata": {
        "id": "Z12sl-TRCdHJ"
      }
    },
    {
      "cell_type": "markdown",
      "source": [
        "## **Vzájomná informácia (mutual information)**\n",
        "\n"
      ],
      "metadata": {
        "id": "rnZgAryI5ZJ7"
      }
    },
    {
      "cell_type": "code",
      "source": [
        "# Vytvorenie prázdneho DataFrame pre vzájomnú informáciu\n",
        "mi_matrix = pd.DataFrame(index=gene_expression_data_T.columns, columns=gene_expression_data_T.columns, data=0.0)\n",
        "\n",
        "# Výpočet vzájomnej informácie medzi stĺpcami (génmi)\n",
        "for col1 in gene_expression_data_T.columns:\n",
        "    for col2 in gene_expression_data_T.columns:\n",
        "        mi_matrix.loc[col1, col2] = mutual_info_regression(gene_expression_data_T[[col1]], gene_expression_data_T[col2])[0]\n",
        "\n",
        "# Nastavenie diagonály na maximum pomocou numpy.fill_diagonal\n",
        "max_mi_value = mi_matrix.max().max()\n",
        "np.fill_diagonal(mi_matrix.values, max_mi_value)\n",
        "\n",
        "# Uloženie matice vzájomnej informácie do súboru .csv\n",
        "mi_matrix.to_csv(os.path.join(base_dir, 'mi_matrix.csv'))\n",
        "\n",
        "# Vizualizácia matice vzájomnej informácie - heatmapa\n",
        "plt.figure(figsize=(10, 8))\n",
        "sns.heatmap(mi_matrix, cmap='viridis', annot=False)\n",
        "plt.title('Heatmapa matice vzájomnej informácie')\n",
        "plt.xlabel('Gény')\n",
        "plt.ylabel('Gény')\n",
        "plt.show()"
      ],
      "metadata": {
        "id": "HV2ekJzvzS6z"
      },
      "execution_count": null,
      "outputs": []
    },
    {
      "cell_type": "markdown",
      "source": [
        "Nastavenie diagonály na maximum:\n",
        "\n",
        "Ide o podobný prípad ako s korelačnou analýzou a použitím funkcie .corr(). Aj funkcia pre výpočet vzájomnej informácie .mutual_info_regression() (https://scikit-learn.org/stable/modules/generated/sklearn.feature_selection.mutual_info_regression.html) pri určovaní závislosti génov s konštantnými hodnotami dáva veľmi nízke hodnoty a opäť je z elementárneho hľadiska samozrejmosťou výsledná vzájomná informácia maximálna pre gén so sebou samým."
      ],
      "metadata": {
        "id": "7TBecO4IEhby"
      }
    },
    {
      "cell_type": "markdown",
      "source": [
        "## **Prahovanie korelačnej matice a matice vzájomnej informácie**"
      ],
      "metadata": {
        "id": "JFai_mNTso0H"
      }
    },
    {
      "cell_type": "code",
      "source": [
        "# Vytvorenie prázdneho DataFrame pre prahovanú maticu korelačného koeficientu\n",
        "corr_threshold_matrix = pd.DataFrame(np.zeros_like(corr_matrix), index=corr_matrix.index, columns=corr_matrix.columns)\n",
        "\n",
        "# Definovanie prahovej hodnoty\n",
        "threshold = 0.5\n",
        "\n",
        "# Vytvorenie podmienky na zistenie, ktoré hodnoty v corr_matrix sú väčšie alebo rovné prahovej hodnote\n",
        "condition = (corr_matrix >= threshold)\n",
        "\n",
        "# Nastavenie hodnôt v corr_threshold_matrix na 1 tam, kde podmienka platí\n",
        "corr_threshold_matrix[condition] = 1\n",
        "\n",
        "# Uloženie prahovanej korelačnej matice do súboru .csv\n",
        "corr_threshold_matrix.to_csv(os.path.join(base_dir, 'corr_threshold_matrix.csv'))\n",
        "\n",
        "# Vizualizácia prahovanej korelačnej matice\n",
        "plt.figure(figsize=(8, 8))\n",
        "sns.heatmap(corr_threshold_matrix, cmap='binary', annot=True, cbar=False)\n",
        "plt.title('Binárny obraz prahovanej korelačnej matice')\n",
        "plt.xlabel('Gény')\n",
        "plt.ylabel('Gény')\n",
        "plt.show()"
      ],
      "metadata": {
        "id": "F-b7F3ZospIp"
      },
      "execution_count": null,
      "outputs": []
    },
    {
      "cell_type": "code",
      "source": [
        "# Vytvorenie prázdneho DataFrame pre prahovanú maticu vzájomnej informácie\n",
        "mi_threshold_matrix = pd.DataFrame(np.zeros_like(mi_matrix), index=mi_matrix.index, columns=mi_matrix.columns)\n",
        "\n",
        "# Definovanie prahovej hodnoty\n",
        "threshold = np.mean(mi_matrix.values)\n",
        "\n",
        "# Vytvorenie podmienky na zistenie, ktoré hodnoty v mi_matrix sú väčšie alebo rovné prahovej hodnote\n",
        "condition = (mi_matrix >= threshold)\n",
        "\n",
        "# Nastavenie hodnôt v mi_threshold_matrix na 1 tam, kde podmienka platí\n",
        "mi_threshold_matrix[condition] = 1\n",
        "\n",
        "# Uloženie prahovanej matice vzájomnej informácie do súboru .csv\n",
        "mi_threshold_matrix.to_csv(os.path.join(base_dir, 'mi_threshold_matrix.csv'))\n",
        "\n",
        "# Vizualizácia prahovanej matice vzájomnej informácie\n",
        "plt.figure(figsize=(8, 8))\n",
        "sns.heatmap(mi_threshold_matrix, cmap='binary', annot=True, cbar=False)\n",
        "plt.title('Binárny obraz prahovanej matice vzájomnej informácie')\n",
        "plt.xlabel('Gény')\n",
        "plt.ylabel('Gény')\n",
        "plt.show()"
      ],
      "metadata": {
        "id": "YGcAlSTMvrB4",
        "collapsed": true
      },
      "execution_count": null,
      "outputs": []
    },
    {
      "cell_type": "markdown",
      "source": [
        "## **Výsledná prieniková matica**"
      ],
      "metadata": {
        "id": "m8meBCA2o6PA"
      }
    },
    {
      "cell_type": "code",
      "source": [
        "# Vytvorenie prázdneho DataFrame pre prienikovú maticu\n",
        "result_matrix = pd.DataFrame(np.zeros_like(corr_threshold_matrix), index=corr_threshold_matrix.index, columns=corr_threshold_matrix.columns)\n",
        "\n",
        "# Výpočet prieniku dvoch prahovaných matíc\n",
        "result_matrix = (mi_threshold_matrix == 1) & (corr_threshold_matrix == 1)\n",
        "\n",
        "# Uloženie výslednej prienikovej matice do súboru .csv\n",
        "result_matrix.to_csv(os.path.join(base_dir, 'result_matrix.csv'))\n",
        "\n",
        "# Vizualizácia výslednej prienikovej matice\n",
        "plt.figure(figsize=(8, 8))\n",
        "sns.heatmap(result_matrix, cmap='binary', annot=True, cbar=False)\n",
        "plt.title('Binárny obraz prienikovej matice')\n",
        "plt.xlabel('Gény')\n",
        "plt.ylabel('Gény')\n",
        "plt.show()"
      ],
      "metadata": {
        "id": "w_gsAEZfQxe1"
      },
      "execution_count": null,
      "outputs": []
    },
    {
      "cell_type": "markdown",
      "source": [
        "# **Detekcia potenciálne koregulovaných génov pre konkrétny gén (Geneid)**"
      ],
      "metadata": {
        "id": "IZpdVTQbpRLO"
      }
    },
    {
      "cell_type": "code",
      "source": [
        "# Definovanie cieľového génu pre analýzu\n",
        "target_gene = \"AT1G01460\"  # Napríklad AT1G01460\n",
        "\n",
        "# Kontrola, či cieľový gén existuje v dátach\n",
        "if target_gene not in data_df.index:\n",
        "    raise ValueError(f\"Gén {target_gene} sa v údajoch nenašiel.\")\n",
        "\n",
        "# Transponovanie dát pre výpočet korelačného koeficientu a vzájomnej informácie\n",
        "gene_expression_data_T = data_df.T\n",
        "\n",
        "# Výpočet korelačnej matice pre cieľový gén voči všetkým ostatným génom pomocou Pearsonovej metódy\n",
        "corr_matrix = pd.DataFrame(index=gene_expression_data_T.columns, columns=[target_gene])\n",
        "\n",
        "for gene in gene_expression_data_T.columns:\n",
        "    corr_matrix.loc[gene, target_gene] = gene_expression_data_T[target_gene].corr(gene_expression_data_T[gene])\n",
        "\n",
        "# Uloženie korelačnej matice do súboru .csv\n",
        "corr_matrix.to_csv(os.path.join(base_dir, 'gene_corr_matrix.csv'))\n",
        "\n",
        "# Výpočet matice vzájomnej informácie pre cieľový gén voči všetkým ostatným génom\n",
        "mi_matrix = pd.DataFrame(index=gene_expression_data_T.columns, columns=[target_gene])\n",
        "\n",
        "for gene in gene_expression_data_T.columns:\n",
        "    mi_value = mutual_info_regression(gene_expression_data_T[[target_gene]], gene_expression_data_T[gene])[0]\n",
        "    mi_matrix.loc[gene, target_gene] = mi_value\n",
        "\n",
        "# Uloženie matice vzájomnej informácie do súboru .csv\n",
        "mi_matrix.to_csv(os.path.join(base_dir, 'gene_mi_matrix.csv'))\n",
        "\n",
        "# Vytvorenie prázdneho DataFrame pre prahovanú maticu korelačného koeficientu\n",
        "corr_threshold_matrix = pd.DataFrame(np.zeros_like(corr_matrix), index=corr_matrix.index, columns=corr_matrix.columns)\n",
        "\n",
        "# Definovanie prahovej hodnoty\n",
        "threshold = 0.8\n",
        "\n",
        "# Vytvorenie podmienky na zistenie, ktoré hodnoty v corr_matrix sú väčšie alebo rovné prahovej hodnote\n",
        "condition = (corr_matrix >= threshold)\n",
        "\n",
        "# Nastavenie hodnôt v corr_threshold_matrix na 1 tam, kde podmienka platí\n",
        "corr_threshold_matrix[condition] = 1\n",
        "\n",
        "# Uloženie prahovanej korelačnej matice do súboru .csv\n",
        "corr_threshold_matrix.to_csv(os.path.join(base_dir, 'gene_corr_threshold_matrix.csv'))\n",
        "\n",
        "# Vytvorenie prázdneho DataFrame pre prahovanú maticu vzájomnej informácie\n",
        "mi_threshold_matrix = pd.DataFrame(np.zeros_like(mi_matrix), index=mi_matrix.index, columns=mi_matrix.columns)\n",
        "\n",
        "# Definovanie prahovej hodnoty\n",
        "threshold = np.mean(mi_matrix.values)\n",
        "\n",
        "# Vytvorenie podmienky na zistenie, ktoré hodnoty v mi_matrix sú väčšie alebo rovné prahovej hodnote\n",
        "condition = (mi_matrix >= threshold)\n",
        "\n",
        "# Nastavenie hodnôt v mi_threshold_matrix na 1 tam, kde podmienka platí\n",
        "mi_threshold_matrix[condition] = 1\n",
        "\n",
        "# Uloženie prahovanej matice vzájomnej informácie do súboru .csv\n",
        "mi_threshold_matrix.to_csv(os.path.join(base_dir, 'gene_mi_threshold_matrix.csv'))\n",
        "\n",
        "# Vytvorenie prázdneho DataFrame pre prienikovú maticu\n",
        "result_matrix = pd.DataFrame(np.zeros_like(corr_threshold_matrix), index=corr_threshold_matrix.index, columns=corr_threshold_matrix.columns)\n",
        "\n",
        "# Výpočet prieniku dvoch prahovaných matíc\n",
        "result_matrix = (mi_threshold_matrix == 1) & (corr_threshold_matrix == 1)\n",
        "\n",
        "# Odstránenie cieľového génu z výslednej matice\n",
        "result_matrix_no_target = result_matrix.drop(target_gene)\n",
        "\n",
        "# Uloženie výslednej prienikovej matice do súboru .csv\n",
        "result_matrix_no_target.to_csv(os.path.join(base_dir, 'gene_result_matrix.csv'))\n",
        "\n",
        "# Výpis výslednej matice ako DataFrame\n",
        "print(\"Výsledná matica koregulovaných génov so zadaným génom:\\n\")\n",
        "print(result_matrix_no_target)\n",
        "\n",
        "# Spočítanie koregulovaných génov vo výslednej matici\n",
        "total_number_of_ones = int(result_matrix_no_target.values.sum())\n",
        "\n",
        "print(f\"Počet koordinovane regulovaných génov s {target_gene}: {total_number_of_ones}\")"
      ],
      "metadata": {
        "id": "rwqaFZJmvZLu"
      },
      "execution_count": null,
      "outputs": []
    }
  ]
}
